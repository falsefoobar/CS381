{
  "nbformat": 4,
  "nbformat_minor": 0,
  "metadata": {
    "colab": {
      "provenance": [],
      "authorship_tag": "ABX9TyOO/Wgnx8XXz7G/t+YnSMd1",
      "include_colab_link": true
    },
    "kernelspec": {
      "name": "python3",
      "display_name": "Python 3"
    },
    "language_info": {
      "name": "python"
    }
  },
  "cells": [
    {
      "cell_type": "markdown",
      "metadata": {
        "id": "view-in-github",
        "colab_type": "text"
      },
      "source": [
        "<a href=\"https://colab.research.google.com/github/falsefoobar/CS381/blob/main/Text_Processing_Assignment.ipynb\" target=\"_parent\"><img src=\"https://colab.research.google.com/assets/colab-badge.svg\" alt=\"Open In Colab\"/></a>"
      ]
    },
    {
      "cell_type": "markdown",
      "source": [
        "Text Processing\n",
        "MatthewFried Assignment\n",
        "\n",
        "For the first 5 problems use the following data\n",
        "\n",
        "\"555-1239Dr. Bernard Lander(636) 555-0113Hollingdorp, Donnatella555-6542Fitzgerald, F. Sco\\\n",
        "tt555 8904Rev. Martin Luther King636-555-3226Snodgrass, Theodore5553642Carlamina Scarfoni\"\n"
      ],
      "metadata": {
        "id": "uM3Gd-v6H0ev"
      }
    },
    {
      "cell_type": "markdown",
      "source": [
        "1. Extract the numbers"
      ],
      "metadata": {
        "id": "IvLCd5d_IMkf"
      }
    },
    {
      "cell_type": "code",
      "source": [
        "import re\n",
        "\n",
        "text = f\"555-1239Dr. Bernard Lander(636) 555-0113Hollingdorp, Donnatella555-6542Fitzgerald, F. Scott555 8904Rev. Martin Luther King636-555-3226Snodgrass, Theodore5553642Carlamina Scarfoni\"\n",
        "\n",
        "regex = r'\\d+'\n",
        "\n",
        "numbers_list = re.findall(regex, text)\n",
        "\n",
        "print(numbers_list)\n",
        "\n"
      ],
      "metadata": {
        "colab": {
          "base_uri": "https://localhost:8080/"
        },
        "id": "-1ry7ASILamt",
        "outputId": "3a3165b0-b7fc-45f6-9b8c-48469994e45d"
      },
      "execution_count": null,
      "outputs": [
        {
          "output_type": "stream",
          "name": "stdout",
          "text": [
            "['555', '1239', '636', '555', '0113', '555', '6542', '555', '8904', '636', '555', '3226', '5553642']\n"
          ]
        }
      ]
    },
    {
      "cell_type": "markdown",
      "source": [
        "2. Extract the names"
      ],
      "metadata": {
        "id": "_h7EyYFzMNBm"
      }
    },
    {
      "cell_type": "code",
      "source": [
        "import re\n",
        "\n",
        "text = f\"555-1239Dr. Bernard Lander(636) 555-0113Hollingdorp, Donnatella555-6542Fitzgerald, F. Scott555 8904Rev. Martin Luther King636-555-3226Snodgrass, Theodore5553642Carlamina Scarfoni\"\n",
        "\n",
        "regex = r\"[A-Za-z\\.]+\"\n",
        "\n",
        "name_list = re.findall(regex, text)\n",
        "\n",
        "print(name_list)"
      ],
      "metadata": {
        "id": "Tns9cmO9MN10",
        "colab": {
          "base_uri": "https://localhost:8080/"
        },
        "outputId": "e3e9aec8-c463-4593-adfc-85209597b4c1"
      },
      "execution_count": 2,
      "outputs": [
        {
          "output_type": "stream",
          "name": "stdout",
          "text": [
            "['Dr.', 'Bernard', 'Lander', 'Hollingdorp', 'Donnatella', 'Fitzgerald', 'F.', 'Scott', 'Rev.', 'Martin', 'Luther', 'King', 'Snodgrass', 'Theodore', 'Carlamina', 'Scarfoni']\n"
          ]
        }
      ]
    },
    {
      "cell_type": "markdown",
      "source": [],
      "metadata": {
        "id": "5kADH5arMOZt"
      }
    },
    {
      "cell_type": "markdown",
      "source": [
        "3. Rearrange the vector so that all elements conform to the standard “firstname lastname”, preserving any titles (e.g., “Rev.”, “Dr.”, etc) or middle/second names."
      ],
      "metadata": {
        "id": "Ag5tcXkBHjjs"
      }
    },
    {
      "cell_type": "code",
      "source": [
        "import re\n",
        "import numpy as np\n",
        "\n",
        "text = f\"555-1239Dr. Bernard Lander(636) 555-0113Hollingdorp, Donnatella555-6542Fitzgerald, F. Scott555 8904Rev. Martin Luther King636-555-3226Snodgrass, Theodore5553642Carlamina Scarfoni\"\n",
        "\n",
        "regex = r\"[A-Za-z\\.]+\"\n",
        "\n",
        "name_list = re.findall(regex, text)\n",
        "names = np.array([\n",
        "                 name_list[0] + \" \" + name_list[1] + \" \" + name_list[2],\n",
        "                 name_list[3] + \" \" + name_list[4],\n",
        "                 name_list[5] + \" \" + name_list[6] + \" \" + name_list[7],\n",
        "                 name_list[8] + \" \" + name_list[9] + \" \" + name_list[10] + \" \" + name_list[11],\n",
        "                 name_list[12] + \" \" + name_list[13],\n",
        "                 name_list[14] + \" \" + name_list[15]\n",
        "                 ])\n",
        "print(names)\n"
      ],
      "metadata": {
        "colab": {
          "base_uri": "https://localhost:8080/"
        },
        "id": "OcPhz06AHnN7",
        "outputId": "389cdbae-debc-4ec7-fb28-527ec88dbbbc"
      },
      "execution_count": 15,
      "outputs": [
        {
          "output_type": "stream",
          "name": "stdout",
          "text": [
            "['Dr. Bernard Lander' 'Hollingdorp Donnatella' 'Fitzgerald F. Scott'\n",
            " 'Rev. Martin Luther King' 'Snodgrass Theodore' 'Carlamina Scarfoni']\n"
          ]
        }
      ]
    },
    {
      "cell_type": "markdown",
      "source": [
        "4. Construct a logical vector indicating whether a character has a title (i.e., Rev. and Dr.)"
      ],
      "metadata": {
        "id": "WgTxtaC0Hn7T"
      }
    },
    {
      "cell_type": "code",
      "source": [
        "import re\n",
        "import numpy as np\n",
        "\n",
        "text = f\"555-1239Dr. Bernard Lander(636) 555-0113Hollingdorp, Donnatella555-6542Fitzgerald, F. Scott555 8904Rev. Martin Luther King636-555-3226Snodgrass, Theodore5553642Carlamina Scarfoni\"\n",
        "\n",
        "regex = r\"[A-Za-z\\.]+\"\n",
        "\n",
        "name_list = re.findall(regex, text)\n",
        "names = np.array([\n",
        "                 name_list[0] + \" \" + name_list[1] + \" \" + name_list[2],\n",
        "                 name_list[3] + \" \" + name_list[4],\n",
        "                 name_list[5] + \" \" + name_list[6] + \" \" + name_list[7],\n",
        "                 name_list[8] + \" \" + name_list[9] + \" \" + name_list[10] + \" \" + name_list[11],\n",
        "                 name_list[12] + \" \" + name_list[13],\n",
        "                 name_list[14] + \" \" + name_list[15]\n",
        "                 ])\n",
        "hasTitle = []\n",
        "for name in names:\n",
        "    if re.search(r'(Dr\\.|Rev\\.)', name):\n",
        "        hasTitle.append(True)\n",
        "    else:\n",
        "        hasTitle.append(False)\n",
        "\n",
        "print(hasTitle)"
      ],
      "metadata": {
        "id": "HzamUU49HqfU",
        "colab": {
          "base_uri": "https://localhost:8080/"
        },
        "outputId": "2eaa3a2e-e5c1-4632-cf9a-cc3ef82683fc"
      },
      "execution_count": 25,
      "outputs": [
        {
          "output_type": "stream",
          "name": "stdout",
          "text": [
            "[True, False, False, True, False, False]\n"
          ]
        }
      ]
    },
    {
      "cell_type": "markdown",
      "source": [
        "5. Construct a logical vector indicating whether a character has a middle/second name."
      ],
      "metadata": {
        "id": "r-NPA2IvHqwd"
      }
    },
    {
      "cell_type": "code",
      "source": [
        "import re\n",
        "import numpy as np\n",
        "\n",
        "text = f\"555-1239Dr. Bernard Lander(636) 555-0113Hollingdorp, Donnatella555-6542Fitzgerald, F. Scott555 8904Rev. Martin Luther King636-555-3226Snodgrass, Theodore5553642Carlamina Scarfoni\"\n",
        "\n",
        "regex = r\"[A-Za-z\\.]+\"\n",
        "\n",
        "name_list = re.findall(regex, text)\n",
        "names = np.array([\n",
        "                 name_list[0] + \" \" + name_list[1] + \" \" + name_list[2],\n",
        "                 name_list[3] + \" \" + name_list[4],\n",
        "                 name_list[5] + \" \" + name_list[6] + \" \" + name_list[7],\n",
        "                 name_list[8] + \" \" + name_list[9] + \" \" + name_list[10] + \" \" + name_list[11],\n",
        "                 name_list[12] + \" \" + name_list[13],\n",
        "                 name_list[14] + \" \" + name_list[15]\n",
        "                 ])\n",
        "hasTitle = []\n",
        "hasMiddle = []\n",
        "for name in names:\n",
        "    part = name.split()\n",
        "    if re.search(r'(Dr\\.|Rev\\.)', name):\n",
        "        hasTitle.append(True)\n",
        "        if len(part) > 3:\n",
        "          hasMiddle.append(True)\n",
        "        else:\n",
        "          hasMiddle.append(False)\n",
        "    else:\n",
        "        hasTitle.append(False)\n",
        "        if len(part) > 2:\n",
        "          hasMiddle.append(True)\n",
        "        else:\n",
        "          hasMiddle.append(False)\n",
        "\n",
        "\n",
        "\n",
        "\n",
        "\n",
        "print(hasTitle)\n",
        "print(hasMiddle)"
      ],
      "metadata": {
        "id": "G0b5aZenHtO8",
        "colab": {
          "base_uri": "https://localhost:8080/"
        },
        "outputId": "6101b3ef-020b-44fc-9df2-156a0f04f90c"
      },
      "execution_count": 29,
      "outputs": [
        {
          "output_type": "stream",
          "name": "stdout",
          "text": [
            "[True, False, False, True, False, False]\n",
            "[False, False, True, True, False, False]\n"
          ]
        }
      ]
    },
    {
      "cell_type": "markdown",
      "source": [
        "6. Consider the HTML string <title>+++BREAKING NEWS+++<title>. We would like to extract the first HTML tag (i.e., “<title>”). To do so we write the regular expression “<.+>”. Explain why this fails and correct the expression."
      ],
      "metadata": {
        "id": "4sgsbqqZHtqU"
      }
    },
    {
      "cell_type": "markdown",
      "source": [
        "This expression fails because the dot gives us any character and the + gives us any character one or more. It will give us all tags. To get the correct tag you can maybe use `^<title>.*?</title>`\n"
      ],
      "metadata": {
        "id": "2cI0GsCaHw6c"
      }
    },
    {
      "cell_type": "markdown",
      "source": [
        "7. Consider the string “(5-3)^2=5^2-2*5*3+3^2”. We would like to extract the equation in its entirety from the string. To do so we write the regular expression “[^0-9=+*()]+”. Explain why this fails and correct the expression."
      ],
      "metadata": {
        "id": "lA2xcvoiJFEj"
      }
    },
    {
      "cell_type": "markdown",
      "source": [
        "The carrot in the brackets would give us characters NOT the following. I would take out the carrotsymbol and use `[0-9=+\\-*()^]+`\n",
        "\n",
        "\n",
        "\n",
        "\n"
      ],
      "metadata": {
        "id": "uE6uu751JUnL"
      }
    }
  ]
}