{
  "nbformat": 4,
  "nbformat_minor": 0,
  "metadata": {
    "colab": {
      "provenance": [],
      "authorship_tag": "ABX9TyPOWAeV6v3KsdJQckMunFVn",
      "include_colab_link": true
    },
    "kernelspec": {
      "name": "python3",
      "display_name": "Python 3"
    },
    "language_info": {
      "name": "python"
    }
  },
  "cells": [
    {
      "cell_type": "markdown",
      "metadata": {
        "id": "view-in-github",
        "colab_type": "text"
      },
      "source": [
        "<a href=\"https://colab.research.google.com/github/falsefoobar/CS381/blob/main/NumPy_Assignment.ipynb\" target=\"_parent\"><img src=\"https://colab.research.google.com/assets/colab-badge.svg\" alt=\"Open In Colab\"/></a>"
      ]
    },
    {
      "cell_type": "markdown",
      "source": [
        "1.\n",
        "Write a Python/NumPy code block that finds the distinct/unique common items between these two\n",
        "arrays:\n",
        "a = np.array([1, 2, 3, 2, 3, 4, 3, 4, 5, 6])\n",
        "b = np.array([7, 2, 10, 2, 7, 4, 9, 4, 9, 8])\n",
        "Your output should contain only the distinct overlapping values. For example, if a 2 is found in both array a and array b,\n",
        "your output should contain only one 2 even if array a contains more than one 2 within it."
      ],
      "metadata": {
        "id": "pIt_DKhi-OlC"
      }
    },
    {
      "cell_type": "code",
      "source": [
        "a_set = set([1, 2, 3, 2, 3, 4, 3, 4, 5, 6])\n",
        "a_set.update([7, 2, 10, 2, 7, 4, 9, 4, 9, 8])\n",
        "\n",
        "print(list(a_set))"
      ],
      "metadata": {
        "colab": {
          "base_uri": "https://localhost:8080/"
        },
        "id": "Qr5xRa2h-TZl",
        "outputId": "5cf69918-ef63-4754-ca90-f2f27a03c261"
      },
      "execution_count": 19,
      "outputs": [
        {
          "output_type": "stream",
          "name": "stdout",
          "text": [
            "[1, 2, 3, 4, 5, 6, 7, 8, 9, 10]\n"
          ]
        }
      ]
    },
    {
      "cell_type": "markdown",
      "source": [
        "2.\n",
        "Create the following 5x3 array using knowledge you have of Python’s / NumPy’s sequencing functionality\n",
        "so that you do not need to explicitly key in every integer value."
      ],
      "metadata": {
        "id": "2AdtelczCCtc"
      }
    },
    {
      "cell_type": "code",
      "source": [
        "import numpy as np\n",
        "\n",
        "array = np.arange(1,16).reshape(3,5)\n",
        "transpose_array = array.T\n",
        "print(transpose_array)"
      ],
      "metadata": {
        "colab": {
          "base_uri": "https://localhost:8080/"
        },
        "id": "Smxzzp5kEHt6",
        "outputId": "1c8872a1-578d-4a01-a53b-632bd2695452"
      },
      "execution_count": 2,
      "outputs": [
        {
          "output_type": "stream",
          "name": "stdout",
          "text": [
            "[[ 1  6 11]\n",
            " [ 2  7 12]\n",
            " [ 3  8 13]\n",
            " [ 4  9 14]\n",
            " [ 5 10 15]]\n"
          ]
        }
      ]
    },
    {
      "cell_type": "markdown",
      "source": [
        "3.\n",
        "The process of transforming a multidimensional array into a unidimensional array is referred to as “flattening”. Transform the 5x3 array shown above in Problem 2 into a unidimensional array such that the sequence of values contained within the array is as follows: 1, 2, 3, 4, 5, 6, 7, 8, 9, 10, 11,"
      ],
      "metadata": {
        "id": "6zCOHBveF5nV"
      }
    },
    {
      "cell_type": "code",
      "source": [
        "import numpy as np\n",
        "\n",
        "array = np.arange(1,16).reshape(3,5)\n",
        "transpose_array = array.T\n",
        "print(transpose_array)\n",
        "#flatten\n",
        "flatten_array = transpose_array.T.flatten()\n",
        "print(flatten_array)\n"
      ],
      "metadata": {
        "colab": {
          "base_uri": "https://localhost:8080/"
        },
        "id": "T0UL-9DSF7og",
        "outputId": "72de92ce-5bbe-46dc-fb7e-446bf54a2585"
      },
      "execution_count": 11,
      "outputs": [
        {
          "output_type": "stream",
          "name": "stdout",
          "text": [
            "[[ 1  6 11]\n",
            " [ 2  7 12]\n",
            " [ 3  8 13]\n",
            " [ 4  9 14]\n",
            " [ 5 10 15]]\n",
            "[ 1  2  3  4  5  6  7  8  9 10 11 12 13 14 15]\n"
          ]
        }
      ]
    },
    {
      "cell_type": "markdown",
      "source": [
        "4.\n",
        "Transform the 2-D array shown in Problem 2 into a 3 dimensional array such that the first column becomes the first dimension of the 3-D array, the second column becomes the second dimension of the 3-D array, and the third column becomes the third dimension of the 3-D array."
      ],
      "metadata": {
        "id": "YduZWDJfGksp"
      }
    },
    {
      "cell_type": "code",
      "source": [
        "import numpy as np\n",
        "\n",
        "array = np.arange(1,16).reshape(3,5)\n",
        "\n",
        "\n",
        "result_array = array.reshape(3,5,1)\n",
        "\n",
        "print(result_array)\n"
      ],
      "metadata": {
        "colab": {
          "base_uri": "https://localhost:8080/"
        },
        "id": "6_Q6q8gHImaq",
        "outputId": "2cb63173-d9e1-40d4-d051-ee61ce367f5b"
      },
      "execution_count": 4,
      "outputs": [
        {
          "output_type": "stream",
          "name": "stdout",
          "text": [
            "[[[ 1]\n",
            "  [ 2]\n",
            "  [ 3]\n",
            "  [ 4]\n",
            "  [ 5]]\n",
            "\n",
            " [[ 6]\n",
            "  [ 7]\n",
            "  [ 8]\n",
            "  [ 9]\n",
            "  [10]]\n",
            "\n",
            " [[11]\n",
            "  [12]\n",
            "  [13]\n",
            "  [14]\n",
            "  [15]]]\n"
          ]
        }
      ]
    },
    {
      "cell_type": "markdown",
      "source": [
        "5. Transform the 3-D array you created in Problem 4 back to the 2-dimensional format shown in Problem 2."
      ],
      "metadata": {
        "id": "5XoA9WIi1iCK"
      }
    },
    {
      "cell_type": "code",
      "source": [
        "import numpy as np\n",
        "\n",
        "array = np.arange(1,16).reshape(3,5)\n",
        "\n",
        "\n",
        "result_array = array.reshape(3,5,1)\n",
        "\n",
        "\n",
        "print(result_array.flatten())"
      ],
      "metadata": {
        "colab": {
          "base_uri": "https://localhost:8080/"
        },
        "id": "L2sbevha1mJm",
        "outputId": "1c9ae210-ae64-4fdb-eae2-ef2dc7b7434e"
      },
      "execution_count": 5,
      "outputs": [
        {
          "output_type": "stream",
          "name": "stdout",
          "text": [
            "[ 1  2  3  4  5  6  7  8  9 10 11 12 13 14 15]\n"
          ]
        }
      ]
    },
    {
      "cell_type": "markdown",
      "source": [
        "6. You are given the following two arrays:\n",
        "a = np.array([12, 5, 7, 15, 3, 1, 8])\n",
        "b = np.array([14, 6, 3, 11, 19, 12, 5])\n",
        "Write a Python/Numpy code block that removes from array a any items that are also present in array b."
      ],
      "metadata": {
        "id": "MNnAlXvZ0ays"
      }
    },
    {
      "cell_type": "code",
      "source": [
        "a = set([12, 5, 7, 15, 3, 1, 8])\n",
        "b = set([14, 6, 3, 11, 19, 12, 5])\n",
        "\n",
        "print(list(a.difference(b)))"
      ],
      "metadata": {
        "colab": {
          "base_uri": "https://localhost:8080/"
        },
        "id": "s31mKEOR6GHb",
        "outputId": "df4c428a-4e56-4ee3-a7f3-8d8a70d69220"
      },
      "execution_count": 22,
      "outputs": [
        {
          "output_type": "stream",
          "name": "stdout",
          "text": [
            "[8, 1, 15, 7]\n"
          ]
        }
      ]
    },
    {
      "cell_type": "markdown",
      "source": [
        "7.1.\n",
        "  What is the maximum yearly NYC consumption of water in millions of gallons per day?\n"
      ],
      "metadata": {
        "id": "DZa_dVuN7clb"
      }
    },
    {
      "cell_type": "markdown",
      "source": [
        "1506 million gallons"
      ],
      "metadata": {
        "id": "6qW3sUEI9aja"
      }
    },
    {
      "cell_type": "markdown",
      "source": [
        "7.2. How many calendar years are represented within this data set? NumPy's shape command is one way to find\n"
      ],
      "metadata": {
        "id": "lMCTKH4k-Z99"
      }
    },
    {
      "cell_type": "code",
      "source": [
        "from google.colab import drive\n",
        "import pandas as pd\n",
        "import numpy as np\n",
        "file_path = '/content/drive/My Drive/Module6_Data.xlsx'\n",
        "\n",
        "df = pd.read_excel(file_path)\n",
        "print(len(df.Year))\n"
      ],
      "metadata": {
        "colab": {
          "base_uri": "https://localhost:8080/"
        },
        "id": "HMvlBdqnF5R_",
        "outputId": "8e7157b2-d3f2-4c84-8064-b2d6677de434"
      },
      "execution_count": 47,
      "outputs": [
        {
          "output_type": "stream",
          "name": "stdout",
          "text": [
            "39\n"
          ]
        }
      ]
    },
    {
      "cell_type": "markdown",
      "source": [
        "7.3\n",
        "What is the mean and the standard deviation of the per capita daily water consumption?"
      ],
      "metadata": {
        "id": "nieWYjS5PEFQ"
      }
    },
    {
      "cell_type": "code",
      "source": [
        "from google.colab import drive\n",
        "import pandas as pd\n",
        "import numpy as np\n",
        "file_path = '/content/drive/My Drive/Module6_Data.xlsx'\n",
        "\n",
        "df = pd.read_excel(file_path)\n",
        "print(f\"standard deviation per capita daily water consumption: {df['Per Capita(Gallons per person per day)'].std()}\")\n",
        "print(f\"mean per capita daily water consumption: {df['Per Capita(Gallons per person per day)'].mean()}\")\n"
      ],
      "metadata": {
        "colab": {
          "base_uri": "https://localhost:8080/"
        },
        "id": "NMzHozU0PGaU",
        "outputId": "d6e12f6a-820f-4214-ec8b-b1d8f3223f85"
      },
      "execution_count": 59,
      "outputs": [
        {
          "output_type": "stream",
          "name": "stdout",
          "text": [
            "standard deviation per capita daily water consumption: 31.930973122258784\n",
            "mean per capita daily water consumption: 160.30769230769232\n"
          ]
        }
      ]
    },
    {
      "cell_type": "markdown",
      "source": [
        "7.4 What is the increase or decrease in population from year to year? Use NumPy's `diff` function to create an array\n",
        "of differences and save that to a variable called \"pop_diff\", then print that variable to the screen.\n",
        "\n"
      ],
      "metadata": {
        "id": "2VIpt9UVQFni"
      }
    },
    {
      "cell_type": "code",
      "source": [
        "from google.colab import drive\n",
        "import pandas as pd\n",
        "import numpy as np\n",
        "file_path = '/content/drive/My Drive/Module6_Data.xlsx'\n",
        "\n",
        "df = pd.read_excel(file_path)\n",
        "pop_diff = [].append(0)\n",
        "count = len(df['New York City Population'])\n",
        "\n",
        "for i in range(1, count):\n",
        "  pop_diff.append(df['New York City Population'][i -1] - df['New York City Population'][i])\n",
        "\n",
        "print(pop_diff)\n",
        "\n"
      ],
      "metadata": {
        "colab": {
          "base_uri": "https://localhost:8080/"
        },
        "id": "680Uj9hSQMq9",
        "outputId": "3786ec4d-2377-4ade-c4f5-b23de57b09d3"
      },
      "execution_count": 70,
      "outputs": [
        {
          "output_type": "stream",
          "name": "stdout",
          "text": [
            "[np.float64(-85025.0), np.float64(-65683.0), np.float64(44512.0), np.float64(-94042.0), np.float64(-61281.0), np.float64(-202731.5), np.float64(125650.5), np.float64(-108965.0), np.float64(-66742.0), np.float64(33371.0), np.float64(-83427.5), np.float64(16685.5), np.float64(50056.5), np.float64(-83427.5), np.float64(50056.5), np.float64(-66742.0), np.float64(-251520.5), np.float64(84816.0), np.float64(150019.0), np.float64(-60618.0), np.float64(-249848.0), np.float64(-64772.0), np.float64(-62582.0), np.float64(-296404.0), np.float64(232112.0), np.float64(-77222.0), np.float64(-339703.0), np.float64(230005.0), np.float64(24929.0), np.float64(-235070.0), np.float64(226545.0), np.float64(6826.0), np.float64(-161252.0), np.float64(193277.0), np.float64(-20782.0), np.float64(-119205.0), np.float64(-132414.0), np.float64(-30461.0)]\n"
          ]
        }
      ]
    }
  ]
}