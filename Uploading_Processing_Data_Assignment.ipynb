{
  "nbformat": 4,
  "nbformat_minor": 0,
  "metadata": {
    "colab": {
      "provenance": [],
      "toc_visible": true,
      "authorship_tag": "ABX9TyOR/FMdU11WCYb2PY0KAwbu",
      "include_colab_link": true
    },
    "kernelspec": {
      "name": "python3",
      "display_name": "Python 3"
    },
    "language_info": {
      "name": "python"
    }
  },
  "cells": [
    {
      "cell_type": "markdown",
      "metadata": {
        "id": "view-in-github",
        "colab_type": "text"
      },
      "source": [
        "<a href=\"https://colab.research.google.com/github/falsefoobar/CS381/blob/main/Uploading_Processing_Data_Assignment.ipynb\" target=\"_parent\"><img src=\"https://colab.research.google.com/assets/colab-badge.svg\" alt=\"Open In Colab\"/></a>"
      ]
    },
    {
      "cell_type": "markdown",
      "source": [
        "\n",
        "1. Upload the data to github. Upload the data to python using Pandas and give it headers."
      ],
      "metadata": {
        "id": "PO4Nplh-TVsx"
      }
    },
    {
      "cell_type": "code",
      "source": [
        "from google.colab import drive\n",
        "import pandas as pd\n",
        "import numpy as np\n",
        "file_path = '/content/drive/My Drive/cars-sample35.txt'\n",
        "\n",
        "df = pd.read_csv(file_path, encoding='utf-16', index_col=False, header=None)\n",
        "df.columns = [\n",
        "    'Price',\n",
        "    'Maintenance cost',\n",
        "    'Number of doors',\n",
        "    'Number of passengers',\n",
        "    'Luggage capacity',\n",
        "    'Safety rating',\n",
        "    'Classification of vehicle'\n",
        "]\n",
        "df.head()"
      ],
      "metadata": {
        "colab": {
          "base_uri": "https://localhost:8080/",
          "height": 206
        },
        "id": "u8bEYDxwVJoT",
        "outputId": "58b2f9aa-8f54-4262-824e-c42ea72f0a81"
      },
      "execution_count": 37,
      "outputs": [
        {
          "output_type": "execute_result",
          "data": {
            "text/plain": [
              "   Price Maintenance cost Number of doors Number of passengers  \\\n",
              "0   high             high               2                    4   \n",
              "1   high             high               4                 more   \n",
              "2   high             high               4                 more   \n",
              "3   high              low               2                 more   \n",
              "4  vhigh              low               3                    2   \n",
              "\n",
              "  Luggage capacity Safety rating Classification of vehicle  \n",
              "0              med           low                     unacc  \n",
              "1            small          high                       acc  \n",
              "2              big           low                     unacc  \n",
              "3              big          high                       acc  \n",
              "4              med           med                     unacc  "
            ],
            "text/html": [
              "\n",
              "  <div id=\"df-176cdb00-fc57-4bc7-b648-9d47598c3d9a\" class=\"colab-df-container\">\n",
              "    <div>\n",
              "<style scoped>\n",
              "    .dataframe tbody tr th:only-of-type {\n",
              "        vertical-align: middle;\n",
              "    }\n",
              "\n",
              "    .dataframe tbody tr th {\n",
              "        vertical-align: top;\n",
              "    }\n",
              "\n",
              "    .dataframe thead th {\n",
              "        text-align: right;\n",
              "    }\n",
              "</style>\n",
              "<table border=\"1\" class=\"dataframe\">\n",
              "  <thead>\n",
              "    <tr style=\"text-align: right;\">\n",
              "      <th></th>\n",
              "      <th>Price</th>\n",
              "      <th>Maintenance cost</th>\n",
              "      <th>Number of doors</th>\n",
              "      <th>Number of passengers</th>\n",
              "      <th>Luggage capacity</th>\n",
              "      <th>Safety rating</th>\n",
              "      <th>Classification of vehicle</th>\n",
              "    </tr>\n",
              "  </thead>\n",
              "  <tbody>\n",
              "    <tr>\n",
              "      <th>0</th>\n",
              "      <td>high</td>\n",
              "      <td>high</td>\n",
              "      <td>2</td>\n",
              "      <td>4</td>\n",
              "      <td>med</td>\n",
              "      <td>low</td>\n",
              "      <td>unacc</td>\n",
              "    </tr>\n",
              "    <tr>\n",
              "      <th>1</th>\n",
              "      <td>high</td>\n",
              "      <td>high</td>\n",
              "      <td>4</td>\n",
              "      <td>more</td>\n",
              "      <td>small</td>\n",
              "      <td>high</td>\n",
              "      <td>acc</td>\n",
              "    </tr>\n",
              "    <tr>\n",
              "      <th>2</th>\n",
              "      <td>high</td>\n",
              "      <td>high</td>\n",
              "      <td>4</td>\n",
              "      <td>more</td>\n",
              "      <td>big</td>\n",
              "      <td>low</td>\n",
              "      <td>unacc</td>\n",
              "    </tr>\n",
              "    <tr>\n",
              "      <th>3</th>\n",
              "      <td>high</td>\n",
              "      <td>low</td>\n",
              "      <td>2</td>\n",
              "      <td>more</td>\n",
              "      <td>big</td>\n",
              "      <td>high</td>\n",
              "      <td>acc</td>\n",
              "    </tr>\n",
              "    <tr>\n",
              "      <th>4</th>\n",
              "      <td>vhigh</td>\n",
              "      <td>low</td>\n",
              "      <td>3</td>\n",
              "      <td>2</td>\n",
              "      <td>med</td>\n",
              "      <td>med</td>\n",
              "      <td>unacc</td>\n",
              "    </tr>\n",
              "  </tbody>\n",
              "</table>\n",
              "</div>\n",
              "    <div class=\"colab-df-buttons\">\n",
              "\n",
              "  <div class=\"colab-df-container\">\n",
              "    <button class=\"colab-df-convert\" onclick=\"convertToInteractive('df-176cdb00-fc57-4bc7-b648-9d47598c3d9a')\"\n",
              "            title=\"Convert this dataframe to an interactive table.\"\n",
              "            style=\"display:none;\">\n",
              "\n",
              "  <svg xmlns=\"http://www.w3.org/2000/svg\" height=\"24px\" viewBox=\"0 -960 960 960\">\n",
              "    <path d=\"M120-120v-720h720v720H120Zm60-500h600v-160H180v160Zm220 220h160v-160H400v160Zm0 220h160v-160H400v160ZM180-400h160v-160H180v160Zm440 0h160v-160H620v160ZM180-180h160v-160H180v160Zm440 0h160v-160H620v160Z\"/>\n",
              "  </svg>\n",
              "    </button>\n",
              "\n",
              "  <style>\n",
              "    .colab-df-container {\n",
              "      display:flex;\n",
              "      gap: 12px;\n",
              "    }\n",
              "\n",
              "    .colab-df-convert {\n",
              "      background-color: #E8F0FE;\n",
              "      border: none;\n",
              "      border-radius: 50%;\n",
              "      cursor: pointer;\n",
              "      display: none;\n",
              "      fill: #1967D2;\n",
              "      height: 32px;\n",
              "      padding: 0 0 0 0;\n",
              "      width: 32px;\n",
              "    }\n",
              "\n",
              "    .colab-df-convert:hover {\n",
              "      background-color: #E2EBFA;\n",
              "      box-shadow: 0px 1px 2px rgba(60, 64, 67, 0.3), 0px 1px 3px 1px rgba(60, 64, 67, 0.15);\n",
              "      fill: #174EA6;\n",
              "    }\n",
              "\n",
              "    .colab-df-buttons div {\n",
              "      margin-bottom: 4px;\n",
              "    }\n",
              "\n",
              "    [theme=dark] .colab-df-convert {\n",
              "      background-color: #3B4455;\n",
              "      fill: #D2E3FC;\n",
              "    }\n",
              "\n",
              "    [theme=dark] .colab-df-convert:hover {\n",
              "      background-color: #434B5C;\n",
              "      box-shadow: 0px 1px 3px 1px rgba(0, 0, 0, 0.15);\n",
              "      filter: drop-shadow(0px 1px 2px rgba(0, 0, 0, 0.3));\n",
              "      fill: #FFFFFF;\n",
              "    }\n",
              "  </style>\n",
              "\n",
              "    <script>\n",
              "      const buttonEl =\n",
              "        document.querySelector('#df-176cdb00-fc57-4bc7-b648-9d47598c3d9a button.colab-df-convert');\n",
              "      buttonEl.style.display =\n",
              "        google.colab.kernel.accessAllowed ? 'block' : 'none';\n",
              "\n",
              "      async function convertToInteractive(key) {\n",
              "        const element = document.querySelector('#df-176cdb00-fc57-4bc7-b648-9d47598c3d9a');\n",
              "        const dataTable =\n",
              "          await google.colab.kernel.invokeFunction('convertToInteractive',\n",
              "                                                    [key], {});\n",
              "        if (!dataTable) return;\n",
              "\n",
              "        const docLinkHtml = 'Like what you see? Visit the ' +\n",
              "          '<a target=\"_blank\" href=https://colab.research.google.com/notebooks/data_table.ipynb>data table notebook</a>'\n",
              "          + ' to learn more about interactive tables.';\n",
              "        element.innerHTML = '';\n",
              "        dataTable['output_type'] = 'display_data';\n",
              "        await google.colab.output.renderOutput(dataTable, element);\n",
              "        const docLink = document.createElement('div');\n",
              "        docLink.innerHTML = docLinkHtml;\n",
              "        element.appendChild(docLink);\n",
              "      }\n",
              "    </script>\n",
              "  </div>\n",
              "\n",
              "\n",
              "    <div id=\"df-defbfe2c-5a0e-4d8e-9b00-f658c902fc17\">\n",
              "      <button class=\"colab-df-quickchart\" onclick=\"quickchart('df-defbfe2c-5a0e-4d8e-9b00-f658c902fc17')\"\n",
              "                title=\"Suggest charts\"\n",
              "                style=\"display:none;\">\n",
              "\n",
              "<svg xmlns=\"http://www.w3.org/2000/svg\" height=\"24px\"viewBox=\"0 0 24 24\"\n",
              "     width=\"24px\">\n",
              "    <g>\n",
              "        <path d=\"M19 3H5c-1.1 0-2 .9-2 2v14c0 1.1.9 2 2 2h14c1.1 0 2-.9 2-2V5c0-1.1-.9-2-2-2zM9 17H7v-7h2v7zm4 0h-2V7h2v10zm4 0h-2v-4h2v4z\"/>\n",
              "    </g>\n",
              "</svg>\n",
              "      </button>\n",
              "\n",
              "<style>\n",
              "  .colab-df-quickchart {\n",
              "      --bg-color: #E8F0FE;\n",
              "      --fill-color: #1967D2;\n",
              "      --hover-bg-color: #E2EBFA;\n",
              "      --hover-fill-color: #174EA6;\n",
              "      --disabled-fill-color: #AAA;\n",
              "      --disabled-bg-color: #DDD;\n",
              "  }\n",
              "\n",
              "  [theme=dark] .colab-df-quickchart {\n",
              "      --bg-color: #3B4455;\n",
              "      --fill-color: #D2E3FC;\n",
              "      --hover-bg-color: #434B5C;\n",
              "      --hover-fill-color: #FFFFFF;\n",
              "      --disabled-bg-color: #3B4455;\n",
              "      --disabled-fill-color: #666;\n",
              "  }\n",
              "\n",
              "  .colab-df-quickchart {\n",
              "    background-color: var(--bg-color);\n",
              "    border: none;\n",
              "    border-radius: 50%;\n",
              "    cursor: pointer;\n",
              "    display: none;\n",
              "    fill: var(--fill-color);\n",
              "    height: 32px;\n",
              "    padding: 0;\n",
              "    width: 32px;\n",
              "  }\n",
              "\n",
              "  .colab-df-quickchart:hover {\n",
              "    background-color: var(--hover-bg-color);\n",
              "    box-shadow: 0 1px 2px rgba(60, 64, 67, 0.3), 0 1px 3px 1px rgba(60, 64, 67, 0.15);\n",
              "    fill: var(--button-hover-fill-color);\n",
              "  }\n",
              "\n",
              "  .colab-df-quickchart-complete:disabled,\n",
              "  .colab-df-quickchart-complete:disabled:hover {\n",
              "    background-color: var(--disabled-bg-color);\n",
              "    fill: var(--disabled-fill-color);\n",
              "    box-shadow: none;\n",
              "  }\n",
              "\n",
              "  .colab-df-spinner {\n",
              "    border: 2px solid var(--fill-color);\n",
              "    border-color: transparent;\n",
              "    border-bottom-color: var(--fill-color);\n",
              "    animation:\n",
              "      spin 1s steps(1) infinite;\n",
              "  }\n",
              "\n",
              "  @keyframes spin {\n",
              "    0% {\n",
              "      border-color: transparent;\n",
              "      border-bottom-color: var(--fill-color);\n",
              "      border-left-color: var(--fill-color);\n",
              "    }\n",
              "    20% {\n",
              "      border-color: transparent;\n",
              "      border-left-color: var(--fill-color);\n",
              "      border-top-color: var(--fill-color);\n",
              "    }\n",
              "    30% {\n",
              "      border-color: transparent;\n",
              "      border-left-color: var(--fill-color);\n",
              "      border-top-color: var(--fill-color);\n",
              "      border-right-color: var(--fill-color);\n",
              "    }\n",
              "    40% {\n",
              "      border-color: transparent;\n",
              "      border-right-color: var(--fill-color);\n",
              "      border-top-color: var(--fill-color);\n",
              "    }\n",
              "    60% {\n",
              "      border-color: transparent;\n",
              "      border-right-color: var(--fill-color);\n",
              "    }\n",
              "    80% {\n",
              "      border-color: transparent;\n",
              "      border-right-color: var(--fill-color);\n",
              "      border-bottom-color: var(--fill-color);\n",
              "    }\n",
              "    90% {\n",
              "      border-color: transparent;\n",
              "      border-bottom-color: var(--fill-color);\n",
              "    }\n",
              "  }\n",
              "</style>\n",
              "\n",
              "      <script>\n",
              "        async function quickchart(key) {\n",
              "          const quickchartButtonEl =\n",
              "            document.querySelector('#' + key + ' button');\n",
              "          quickchartButtonEl.disabled = true;  // To prevent multiple clicks.\n",
              "          quickchartButtonEl.classList.add('colab-df-spinner');\n",
              "          try {\n",
              "            const charts = await google.colab.kernel.invokeFunction(\n",
              "                'suggestCharts', [key], {});\n",
              "          } catch (error) {\n",
              "            console.error('Error during call to suggestCharts:', error);\n",
              "          }\n",
              "          quickchartButtonEl.classList.remove('colab-df-spinner');\n",
              "          quickchartButtonEl.classList.add('colab-df-quickchart-complete');\n",
              "        }\n",
              "        (() => {\n",
              "          let quickchartButtonEl =\n",
              "            document.querySelector('#df-defbfe2c-5a0e-4d8e-9b00-f658c902fc17 button');\n",
              "          quickchartButtonEl.style.display =\n",
              "            google.colab.kernel.accessAllowed ? 'block' : 'none';\n",
              "        })();\n",
              "      </script>\n",
              "    </div>\n",
              "\n",
              "    </div>\n",
              "  </div>\n"
            ],
            "application/vnd.google.colaboratory.intrinsic+json": {
              "type": "dataframe",
              "variable_name": "df",
              "summary": "{\n  \"name\": \"df\",\n  \"rows\": 35,\n  \"fields\": [\n    {\n      \"column\": \"Price\",\n      \"properties\": {\n        \"dtype\": \"category\",\n        \"num_unique_values\": 4,\n        \"samples\": [\n          \"vhigh\",\n          \"med\",\n          \"high\"\n        ],\n        \"semantic_type\": \"\",\n        \"description\": \"\"\n      }\n    },\n    {\n      \"column\": \"Maintenance cost\",\n      \"properties\": {\n        \"dtype\": \"category\",\n        \"num_unique_values\": 4,\n        \"samples\": [\n          \"low\",\n          \"vhigh\",\n          \"high\"\n        ],\n        \"semantic_type\": \"\",\n        \"description\": \"\"\n      }\n    },\n    {\n      \"column\": \"Number of doors\",\n      \"properties\": {\n        \"dtype\": \"category\",\n        \"num_unique_values\": 4,\n        \"samples\": [\n          \"4\",\n          \"5more\",\n          \"2\"\n        ],\n        \"semantic_type\": \"\",\n        \"description\": \"\"\n      }\n    },\n    {\n      \"column\": \"Number of passengers\",\n      \"properties\": {\n        \"dtype\": \"category\",\n        \"num_unique_values\": 3,\n        \"samples\": [\n          \"4\",\n          \"more\",\n          \"2\"\n        ],\n        \"semantic_type\": \"\",\n        \"description\": \"\"\n      }\n    },\n    {\n      \"column\": \"Luggage capacity\",\n      \"properties\": {\n        \"dtype\": \"category\",\n        \"num_unique_values\": 3,\n        \"samples\": [\n          \"med\",\n          \"small\",\n          \"big\"\n        ],\n        \"semantic_type\": \"\",\n        \"description\": \"\"\n      }\n    },\n    {\n      \"column\": \"Safety rating\",\n      \"properties\": {\n        \"dtype\": \"category\",\n        \"num_unique_values\": 3,\n        \"samples\": [\n          \"low\",\n          \"high\",\n          \"med\"\n        ],\n        \"semantic_type\": \"\",\n        \"description\": \"\"\n      }\n    },\n    {\n      \"column\": \"Classification of vehicle\",\n      \"properties\": {\n        \"dtype\": \"category\",\n        \"num_unique_values\": 3,\n        \"samples\": [\n          \"unacc\",\n          \"acc\",\n          \"vgood\"\n        ],\n        \"semantic_type\": \"\",\n        \"description\": \"\"\n      }\n    }\n  ]\n}"
            }
          },
          "metadata": {},
          "execution_count": 37
        }
      ]
    },
    {
      "cell_type": "markdown",
      "source": [
        "2. Extract these seven attributes from each line of the file and create seven distinct Python list objects comprised solely of the values you extracted for a given attribute. In other words, you should have lists of prices, maintenance costs, number of doors, etc."
      ],
      "metadata": {
        "id": "hVcE8kKMWRrG"
      }
    },
    {
      "cell_type": "code",
      "source": [
        "from google.colab import drive\n",
        "import pandas as pd\n",
        "import numpy as np\n",
        "file_path = '/content/drive/My Drive/cars-sample35.txt'\n",
        "\n",
        "df = pd.read_csv(file_path, encoding='utf-16', index_col=False, header=None)\n",
        "df.columns = [\n",
        "    'Price',\n",
        "    'Maintenance cost',\n",
        "    'Number of doors',\n",
        "    'Number of passengers',\n",
        "    'Luggage capacity',\n",
        "    'Safety rating',\n",
        "    'Classification of vehicle'\n",
        "]\n",
        "\n",
        "car_data_obj = {\n",
        "    'Price': df['Price'].tolist(),\n",
        "    'Maintenance cost': df['Maintenance cost'].tolist(),\n",
        "    'Number of doors': df['Number of doors'].tolist(),\n",
        "    'Number of passengers': df['Number of passengers'].tolist(),\n",
        "    'Luggage capacity': df['Luggage capacity'].tolist(),\n",
        "    'Safety rating': df['Safety rating'].tolist(),\n",
        "    'Classification of vehicle': df['Classification of vehicle'].tolist()\n",
        "}\n",
        "print(car_data_obj)\n",
        "\n"
      ],
      "metadata": {
        "colab": {
          "base_uri": "https://localhost:8080/"
        },
        "id": "-TvnxVkPe_qD",
        "outputId": "b70a32fe-fa77-433f-9bfd-9c01161a1be4"
      },
      "execution_count": 45,
      "outputs": [
        {
          "output_type": "stream",
          "name": "stdout",
          "text": [
            "{'Price': ['high', 'high', 'high', 'high', 'vhigh', 'low', 'med', 'low', 'vhigh', 'vhigh', 'low', 'vhigh', 'high', 'low', 'high', 'vhigh', 'med', 'high', 'low', 'low', 'med', 'low', 'vhigh', 'med', 'low', 'vhigh', 'med', 'high', 'low', 'med', 'high', 'high', 'low', 'vhigh', 'high'], 'Maintenance cost': ['high', 'high', 'high', 'low', 'low', 'high', 'med', 'low', 'low', 'high', 'low', 'low', 'low', 'vhigh', 'low', 'high', 'med', 'low', 'low', 'low', 'high', 'low', 'high', 'vhigh', 'vhigh', 'low', 'vhigh', 'high', 'high', 'high', 'low', 'vhigh', 'low', 'vhigh', 'low'], 'Number of doors': ['2', '4', '4', '2', '3', '2', '4', '3', '2', '4', '2', '4', '2', '3', '5more', '2', '2', '5more', '3', '2', '4', '2', '5more', '2', '4', '3', '3', '3', '5more', '5more', '3', '5more', '5more', '4', '3'], 'Number of passengers': ['4', 'more', 'more', 'more', '2', '2', 'more', '2', '2', '4', '2', 'more', '4', 'more', '2', 'more', '2', '4', 'more', '2', '2', '2', '4', '2', '4', 'more', '4', '4', '2', '2', '4', '4', '2', '2', '2'], 'Luggage capacity': ['med', 'small', 'big', 'big', 'med', 'small', 'med', 'big', 'small', 'med', 'med', 'small', 'big', 'big', 'big', 'med', 'small', 'med', 'med', 'big', 'big', 'small', 'med', 'big', 'big', 'big', 'small', 'med', 'big', 'med', 'med', 'med', 'med', 'big', 'big'], 'Safety rating': ['low', 'high', 'low', 'high', 'med', 'low', 'high', 'med', 'low', 'low', 'med', 'high', 'med', 'low', 'med', 'high', 'low', 'high', 'high', 'med', 'high', 'high', 'med', 'low', 'low', 'low', 'low', 'med', 'low', 'med', 'high', 'med', 'low', 'high', 'high'], 'Classification of vehicle': ['unacc', 'acc', 'unacc', 'acc', 'unacc', 'unacc', 'vgood', 'unacc', 'unacc', 'unacc', 'unacc', 'acc', 'acc', 'unacc', 'unacc', 'unacc', 'unacc', 'acc', 'vgood', 'unacc', 'unacc', 'unacc', 'unacc', 'unacc', 'unacc', 'unacc', 'unacc', 'unacc', 'unacc', 'unacc', 'acc', 'unacc', 'unacc', 'unacc', 'unacc']}\n"
          ]
        }
      ]
    },
    {
      "cell_type": "markdown",
      "source": [
        "3. Find the list index values of each automobile having a “price” rating of \"med\". Create a new list object with your result. HINT: you can accomplish this task by searching the list of price values you created earlier. Be sure to print your results."
      ],
      "metadata": {
        "id": "09f-MgoRhgPL"
      }
    },
    {
      "cell_type": "code",
      "source": [
        "from google.colab import drive\n",
        "import pandas as pd\n",
        "import numpy as np\n",
        "file_path = '/content/drive/My Drive/cars-sample35.txt'\n",
        "\n",
        "df = pd.read_csv(file_path, encoding='utf-16', index_col=False, header=None)\n",
        "df.columns = [\n",
        "    'Price',\n",
        "    'Maintenance cost',\n",
        "    'Number of doors',\n",
        "    'Number of passengers',\n",
        "    'Luggage capacity',\n",
        "    'Safety rating',\n",
        "    'Classification of vehicle'\n",
        "]\n",
        "\n",
        "car_data_obj = {\n",
        "    'Price': df['Price'].tolist(),\n",
        "    'Maintenance cost': df['Maintenance cost'].tolist(),\n",
        "    'Number of doors': df['Number of doors'].tolist(),\n",
        "    'Number of passengers': df['Number of passengers'].tolist(),\n",
        "    'Luggage capacity': df['Luggage capacity'].tolist(),\n",
        "    'Safety rating': df['Safety rating'].tolist(),\n",
        "    'Classification of vehicle': df['Classification of vehicle'].tolist()\n",
        "}\n",
        "\n",
        "med_price_list = []\n",
        "for i in range(len(car_data_obj['Price'])):\n",
        "  if car_data_obj['Price'][i] == 'med':\n",
        "    print(i)\n",
        "    med_price_list.append(i)\n",
        "print(med_price_list)"
      ],
      "metadata": {
        "colab": {
          "base_uri": "https://localhost:8080/"
        },
        "id": "Z6qZFIR3hqoD",
        "outputId": "2b735308-4ced-4aaf-863c-c4dd16da6fd4"
      },
      "execution_count": 49,
      "outputs": [
        {
          "output_type": "stream",
          "name": "stdout",
          "text": [
            "6\n",
            "16\n",
            "20\n",
            "23\n",
            "26\n",
            "29\n",
            "[6, 16, 20, 23, 26, 29]\n"
          ]
        }
      ]
    },
    {
      "cell_type": "markdown",
      "source": [
        "4.Find the \"number of passengers\" value for each auto having a \"price\" value of \"med\". Create a new list to store your findings and be sure to print your results."
      ],
      "metadata": {
        "id": "uJSmpQySjjfQ"
      }
    },
    {
      "cell_type": "code",
      "source": [
        "from google.colab import drive\n",
        "import pandas as pd\n",
        "import numpy as np\n",
        "file_path = '/content/drive/My Drive/cars-sample35.txt'\n",
        "\n",
        "df = pd.read_csv(file_path, encoding='utf-16', index_col=False, header=None)\n",
        "df.columns = [\n",
        "    'Price',\n",
        "    'Maintenance cost',\n",
        "    'Number of doors',\n",
        "    'Number of passengers',\n",
        "    'Luggage capacity',\n",
        "    'Safety rating',\n",
        "    'Classification of vehicle'\n",
        "]\n",
        "\n",
        "car_data_obj = {\n",
        "    'Price': df['Price'].tolist(),\n",
        "    'Maintenance cost': df['Maintenance cost'].tolist(),\n",
        "    'Number of doors': df['Number of doors'].tolist(),\n",
        "    'Number of passengers': df['Number of passengers'].tolist(),\n",
        "    'Luggage capacity': df['Luggage capacity'].tolist(),\n",
        "    'Safety rating': df['Safety rating'].tolist(),\n",
        "    'Classification of vehicle': df['Classification of vehicle'].tolist()\n",
        "}\n",
        "\n",
        "med_price_list = []\n",
        "for i in range(len(car_data_obj['Price'])):\n",
        "  if car_data_obj['Price'][i] == 'med':\n",
        "    med_price_list.append(i)\n",
        "\n",
        "passengers_with_med_price = []\n",
        "for value in med_price_list:\n",
        "  print(car_data_obj['Number of passengers'][value])\n",
        "  passengers_with_med_price.append(car_data_obj['Number of passengers'][value])\n",
        "\n",
        "print(passengers_with_med_price)"
      ],
      "metadata": {
        "colab": {
          "base_uri": "https://localhost:8080/"
        },
        "id": "T48zIf_mj3xr",
        "outputId": "5affbb6b-de94-4a15-d4d8-0c044d9af7db"
      },
      "execution_count": 52,
      "outputs": [
        {
          "output_type": "stream",
          "name": "stdout",
          "text": [
            "more\n",
            "2\n",
            "2\n",
            "2\n",
            "4\n",
            "2\n",
            "['more', '2', '2', '2', '4', '2']\n"
          ]
        }
      ]
    },
    {
      "cell_type": "markdown",
      "source": [
        "5.Find the index value for each automobile having a “price” value of \"high\" and a “maintenance” value that is not \"low\". Create a new list to store your findings and be sure to print your results."
      ],
      "metadata": {
        "id": "M_OK3QK4lcrM"
      }
    },
    {
      "cell_type": "code",
      "source": [
        "from google.colab import drive\n",
        "import pandas as pd\n",
        "import numpy as np\n",
        "file_path = '/content/drive/My Drive/cars-sample35.txt'\n",
        "\n",
        "df = pd.read_csv(file_path, encoding='utf-16', index_col=False, header=None)\n",
        "df.columns = [\n",
        "    'Price',\n",
        "    'Maintenance cost',\n",
        "    'Number of doors',\n",
        "    'Number of passengers',\n",
        "    'Luggage capacity',\n",
        "    'Safety rating',\n",
        "    'Classification of vehicle'\n",
        "]\n",
        "\n",
        "car_data_obj = {\n",
        "    'Price': df['Price'].tolist(),\n",
        "    'Maintenance cost': df['Maintenance cost'].tolist(),\n",
        "    'Number of doors': df['Number of doors'].tolist(),\n",
        "    'Number of passengers': df['Number of passengers'].tolist(),\n",
        "    'Luggage capacity': df['Luggage capacity'].tolist(),\n",
        "    'Safety rating': df['Safety rating'].tolist(),\n",
        "    'Classification of vehicle': df['Classification of vehicle'].tolist()\n",
        "}\n",
        "\n",
        "high_price_low_maint_list = []\n",
        "for i in range(len(car_data_obj['Price'])):\n",
        "  if car_data_obj['Price'][i] == 'high':\n",
        "    if car_data_obj['Maintenance cost'][i] == 'low':\n",
        "      high_price_low_maint_list.append(i)\n",
        "print(high_price_low_maint_list)\n"
      ],
      "metadata": {
        "colab": {
          "base_uri": "https://localhost:8080/"
        },
        "id": "c6IAjSP-lkJv",
        "outputId": "e005d3ca-b462-442b-8a01-25ba51f5225e"
      },
      "execution_count": 56,
      "outputs": [
        {
          "output_type": "stream",
          "name": "stdout",
          "text": [
            "[3, 12, 14, 17, 30, 34]\n"
          ]
        }
      ]
    },
    {
      "cell_type": "markdown",
      "source": [
        "6.Find the list index values of each automobile having a price rating of \"med using a list comprehension instead of a basic for or while loop. The list comprehension should create a new list containing your result. Be sure to print your results to the screen."
      ],
      "metadata": {
        "id": "NoG5P-PEmiZ4"
      }
    },
    {
      "cell_type": "code",
      "source": [
        "from google.colab import drive\n",
        "import pandas as pd\n",
        "import numpy as np\n",
        "file_path = '/content/drive/My Drive/cars-sample35.txt'\n",
        "\n",
        "df = pd.read_csv(file_path, encoding='utf-16', index_col=False, header=None)\n",
        "df.columns = [\n",
        "    'Price',\n",
        "    'Maintenance cost',\n",
        "    'Number of doors',\n",
        "    'Number of passengers',\n",
        "    'Luggage capacity',\n",
        "    'Safety rating',\n",
        "    'Classification of vehicle'\n",
        "]\n",
        "\n",
        "med_price_list = np.where(df['Price'] == 'med')[0].tolist()\n",
        "print(med_price_list)\n",
        "\n",
        "\n"
      ],
      "metadata": {
        "colab": {
          "base_uri": "https://localhost:8080/"
        },
        "id": "xcKqBNd_ml4e",
        "outputId": "28d52c04-fb8d-496a-c601-8b3feab5642a"
      },
      "execution_count": 60,
      "outputs": [
        {
          "output_type": "stream",
          "name": "stdout",
          "text": [
            "[6, 16, 20, 23, 26, 29]\n"
          ]
        }
      ]
    },
    {
      "cell_type": "markdown",
      "source": [
        "7.Find the \"number of passengers\" value for each auto having a \"price\" value of \"med\" using a list comprehension instead of a basic for or while loop. The list comprehension should create a new list containing your findings. Be sure to print your results to the screen."
      ],
      "metadata": {
        "id": "FhSVw9YwndAM"
      }
    },
    {
      "cell_type": "code",
      "source": [
        "from google.colab import drive\n",
        "import pandas as pd\n",
        "import numpy as np\n",
        "file_path = '/content/drive/My Drive/cars-sample35.txt'\n",
        "\n",
        "df = pd.read_csv(file_path, encoding='utf-16', index_col=False, header=None)\n",
        "df.columns = [\n",
        "    'Price',\n",
        "    'Maintenance cost',\n",
        "    'Number of doors',\n",
        "    'Number of passengers',\n",
        "    'Luggage capacity',\n",
        "    'Safety rating',\n",
        "    'Classification of vehicle'\n",
        "]\n",
        "\n",
        "med_price_list = np.where(df['Price'] == 'med')[0].tolist()\n",
        "print(med_price_list)\n",
        "passengers_with_med_price = [df['Number of passengers'][i] for i in med_price_list]\n",
        "print(passengers_with_med_price)\n"
      ],
      "metadata": {
        "colab": {
          "base_uri": "https://localhost:8080/"
        },
        "id": "5SP50yBnotEX",
        "outputId": "c280fa7a-e82d-4751-9432-5a8f61afe5f8"
      },
      "execution_count": 59,
      "outputs": [
        {
          "output_type": "stream",
          "name": "stdout",
          "text": [
            "[6, 16, 20, 23, 26, 29]\n",
            "['more', '2', '2', '2', '4', '2']\n"
          ]
        }
      ]
    },
    {
      "cell_type": "markdown",
      "source": [
        "8.Find the index value for each automobile having a price value of \"high\" and a maintenance value that is not \"low\" using a list comprehension. The list comprehension should create a new list containing your findings. Be sure to print your results to the screen."
      ],
      "metadata": {
        "id": "hR9JUlgIpmaB"
      }
    },
    {
      "cell_type": "code",
      "source": [
        "from google.colab import drive\n",
        "import pandas as pd\n",
        "import numpy as np\n",
        "file_path = '/content/drive/My Drive/cars-sample35.txt'\n",
        "\n",
        "df = pd.read_csv(file_path, encoding='utf-16', index_col=False, header=None)\n",
        "df.columns = [\n",
        "    'Price',\n",
        "    'Maintenance cost',\n",
        "    'Number of doors',\n",
        "    'Number of passengers',\n",
        "    'Luggage capacity',\n",
        "    'Safety rating',\n",
        "    'Classification of vehicle'\n",
        "]\n",
        "\n",
        "high_price_not_low_maint_list = np.where((df['Price'] == 'high') & (df['Maintenance cost'] != 'low'))[0].tolist()\n",
        "print(high_price_low_maint_list)\n"
      ],
      "metadata": {
        "colab": {
          "base_uri": "https://localhost:8080/"
        },
        "id": "QdnCVOrspqoE",
        "outputId": "e78eba59-d246-4eb2-c134-ee691e14bf6d"
      },
      "execution_count": 65,
      "outputs": [
        {
          "output_type": "stream",
          "name": "stdout",
          "text": [
            "[3, 12, 14, 17, 30, 34]\n"
          ]
        }
      ]
    },
    {
      "cell_type": "markdown",
      "source": [
        "1.Consider the following list of lists: nlist = [ [1, 2, 3], [‘A’, ‘B’, ‘C’], [4, 5], [‘D’, ‘E’] ]. Extract each individual element of the component lists contained within nlist and add them to a new list.  Do NOT use a nested for loop, use a list comprehension.\n",
        "\n",
        "> Add blockquote\n",
        "\n"
      ],
      "metadata": {
        "id": "08gI-MDNrajf"
      }
    },
    {
      "cell_type": "code",
      "source": [
        "import numpy as np\n",
        "\n",
        "nlist = [ [1, 2, 3], ['A', 'B', 'C'], [4, 5], ['D', 'E'] ]\n",
        "\n",
        "sol_array = [value for x in nlist for value in x]\n",
        "sol_list = np.asarray(sol_array).tolist()\n",
        "print(sol_list)"
      ],
      "metadata": {
        "colab": {
          "base_uri": "https://localhost:8080/"
        },
        "id": "7pAqH6WesFae",
        "outputId": "127bba89-d90c-4180-9bd4-c8a00278c944"
      },
      "execution_count": 85,
      "outputs": [
        {
          "output_type": "stream",
          "name": "stdout",
          "text": [
            "['1', '2', '3', 'A', 'B', 'C', '4', '5', 'D', 'E']\n"
          ]
        }
      ]
    }
  ]
}